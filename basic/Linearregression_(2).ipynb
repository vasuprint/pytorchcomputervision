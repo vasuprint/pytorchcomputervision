{
 "cells": [
  {
   "attachments": {},
   "cell_type": "markdown",
   "metadata": {},
   "source": [
    "## Basic linear Regression"
   ]
  },
  {
   "cell_type": "code",
   "execution_count": 1,
   "metadata": {},
   "outputs": [],
   "source": [
    "import torch"
   ]
  },
  {
   "cell_type": "code",
   "execution_count": 2,
   "metadata": {},
   "outputs": [],
   "source": [
    "# Init weights and biases\n",
    "w = torch.tensor(3.0, requires_grad=True)\n",
    "b = torch.tensor(1.0, requires_grad=True) "
   ]
  },
  {
   "cell_type": "code",
   "execution_count": 3,
   "metadata": {},
   "outputs": [],
   "source": [
    "# Create forward function\n",
    "def forward(x):\n",
    "    y = w*x + b\n",
    "    return y"
   ]
  },
  {
   "cell_type": "code",
   "execution_count": 4,
   "metadata": {},
   "outputs": [
    {
     "data": {
      "text/plain": [
       "tensor([7.], grad_fn=<AddBackward0>)"
      ]
     },
     "execution_count": 4,
     "metadata": {},
     "output_type": "execute_result"
    }
   ],
   "source": [
    "# Create x tensor as Input\n",
    "x = torch.Tensor([2])\n",
    "forward(x)"
   ]
  },
  {
   "cell_type": "code",
   "execution_count": 5,
   "metadata": {},
   "outputs": [
    {
     "data": {
      "text/plain": [
       "tensor([[ 7.],\n",
       "        [13.],\n",
       "        [22.]], grad_fn=<AddBackward0>)"
      ]
     },
     "execution_count": 5,
     "metadata": {},
     "output_type": "execute_result"
    }
   ],
   "source": [
    "# Create multiple x tensor as Input \n",
    "x = torch.Tensor([[2],[4],[7]])\n",
    "forward(x)"
   ]
  },
  {
   "attachments": {},
   "cell_type": "markdown",
   "metadata": {},
   "source": [
    "## Linear regression 1 perceptron"
   ]
  },
  {
   "cell_type": "code",
   "execution_count": 6,
   "metadata": {},
   "outputs": [],
   "source": [
    "import torch\n",
    "from torch.nn import Linear"
   ]
  },
  {
   "cell_type": "code",
   "execution_count": 7,
   "metadata": {},
   "outputs": [
    {
     "data": {
      "text/plain": [
       "<torch._C.Generator at 0x1089bf990>"
      ]
     },
     "execution_count": 7,
     "metadata": {},
     "output_type": "execute_result"
    }
   ],
   "source": [
    "torch.manual_seed(1)"
   ]
  },
  {
   "cell_type": "code",
   "execution_count": 8,
   "metadata": {},
   "outputs": [
    {
     "name": "stdout",
     "output_type": "stream",
     "text": [
      "Parameter containing:\n",
      "tensor([-0.4414], requires_grad=True) Parameter containing:\n",
      "tensor([[0.5153]], requires_grad=True)\n"
     ]
    }
   ],
   "source": [
    "model = Linear(in_features=1, out_features=1)\n",
    "print(model.bias, model.weight)"
   ]
  },
  {
   "cell_type": "code",
   "execution_count": 9,
   "metadata": {},
   "outputs": [
    {
     "name": "stdout",
     "output_type": "stream",
     "text": [
      "tensor([0.5891], grad_fn=<AddBackward0>)\n"
     ]
    }
   ],
   "source": [
    "x = torch.tensor([2.0])\n",
    "print(model(x))"
   ]
  },
  {
   "cell_type": "code",
   "execution_count": 10,
   "metadata": {},
   "outputs": [
    {
     "name": "stdout",
     "output_type": "stream",
     "text": [
      "tensor([[0.5891],\n",
      "        [1.2590]], grad_fn=<AddmmBackward0>)\n"
     ]
    }
   ],
   "source": [
    "x = torch.tensor([[2.0], [3.3]])\n",
    "print(model(x))"
   ]
  },
  {
   "attachments": {},
   "cell_type": "markdown",
   "metadata": {},
   "source": [
    "## Create Class for prediction"
   ]
  },
  {
   "cell_type": "code",
   "execution_count": 11,
   "metadata": {},
   "outputs": [],
   "source": [
    "import torch\n",
    "import torch.nn as nn\n",
    "import matplotlib.pyplot as plt\n",
    "import numpy as np"
   ]
  },
  {
   "cell_type": "code",
   "execution_count": 12,
   "metadata": {},
   "outputs": [],
   "source": [
    "class LR(nn.Module):\n",
    "    def __init__(self, input_size, putput_size):\n",
    "        super().__init__()\n",
    "        self.linear = nn.Linear(input_size, putput_size)\n",
    "    def forward(self, x):\n",
    "        pred = self.linear(x)\n",
    "        return pred"
   ]
  },
  {
   "cell_type": "code",
   "execution_count": 13,
   "metadata": {},
   "outputs": [
    {
     "name": "stdout",
     "output_type": "stream",
     "text": [
      "Parameter: [Parameter containing:\n",
      "tensor([[0.5153]], requires_grad=True), Parameter containing:\n",
      "tensor([-0.4414], requires_grad=True)]\n"
     ]
    }
   ],
   "source": [
    "torch.manual_seed(1)\n",
    "model = LR(1, 1,)\n",
    "print('Parameter:',list(model.parameters()))"
   ]
  },
  {
   "cell_type": "code",
   "execution_count": 14,
   "metadata": {},
   "outputs": [
    {
     "name": "stdout",
     "output_type": "stream",
     "text": [
      "Prediction: tensor([[0.0739],\n",
      "        [0.5891]], grad_fn=<AddmmBackward0>)\n"
     ]
    }
   ],
   "source": [
    "x = torch.tensor([[1.0], [2.0]])\n",
    "print('Prediction:',model.forward(x))"
   ]
  },
  {
   "attachments": {},
   "cell_type": "markdown",
   "metadata": {},
   "source": [
    "## Data sets"
   ]
  },
  {
   "cell_type": "code",
   "execution_count": 15,
   "metadata": {},
   "outputs": [
    {
     "name": "stdout",
     "output_type": "stream",
     "text": [
      "torch.Size([100, 1])\n",
      "tensor([[-15.2560],\n",
      "        [ -7.5023],\n",
      "        [ -6.5398],\n",
      "        [-16.0948],\n",
      "        [ -1.0017]])\n"
     ]
    },
    {
     "data": {
      "image/png": "[encoded data removed]",
      "text/plain": [
       "<Figure size 432x288 with 1 Axes>"
      ]
     },
     "metadata": {
      "needs_background": "light"
     },
     "output_type": "display_data"
    }
   ],
   "source": [
    "torch.manual_seed(1)\n",
    "X = torch.randn(100,1)*10 # Rows: 100, Columns: 1\n",
    "y = X + 3*torch.randn(100,1)\n",
    "print(X.shape)\n",
    "print(X[0:5])\n",
    "plt.plot(X.numpy(), y.numpy(), 'o')\n",
    "plt.xlabel('x')\n",
    "plt.ylabel('y')\n",
    "plt.show()"
   ]
  },
  {
   "cell_type": "code",
   "execution_count": 16,
   "metadata": {},
   "outputs": [],
   "source": [
    "class LR(nn.Module):\n",
    "    def __init__ (self, input_size, output_size):\n",
    "        super().__init__()\n",
    "        self.linear = nn.Linear(input_size, output_size)\n",
    "    def forward(self, x):\n",
    "        pred = self.linear(x)\n",
    "        return pred\n",
    "    def get_params(self):\n",
    "        return (self.linear.weight[0][0].item(), self.linear.bias[0].item())"
   ]
  },
  {
   "cell_type": "code",
   "execution_count": 17,
   "metadata": {},
   "outputs": [],
   "source": [
    "def plot_fit(title):\n",
    "    plt.title = title\n",
    "    w1, b1 = model.get_params()\n",
    "    x1 = np.array([-30, 30])\n",
    "    y1 = w1*x1 + b1\n",
    "    plt.plot(x1, y1, 'r')\n",
    "    plt.scatter(X, y)\n",
    "    plt.show()"
   ]
  },
  {
   "cell_type": "code",
   "execution_count": 18,
   "metadata": {},
   "outputs": [
    {
     "name": "stdout",
     "output_type": "stream",
     "text": [
      "weight Parameter containing:\n",
      "tensor([[0.9846]], requires_grad=True) \n",
      "bias: Parameter containing:\n",
      "tensor([-0.2130], requires_grad=True)\n"
     ]
    }
   ],
   "source": [
    "model = LR(1,1)\n",
    "[w, b] = model.parameters()\n",
    "print('weight',w,'\\nbias:',b)"
   ]
  },
  {
   "cell_type": "code",
   "execution_count": 19,
   "metadata": {},
   "outputs": [
    {
     "data": {
      "image/png": "[encoded data removed]",
      "text/plain": [
       "<Figure size 432x288 with 1 Axes>"
      ]
     },
     "metadata": {
      "needs_background": "light"
     },
     "output_type": "display_data"
    }
   ],
   "source": [
    "plot_fit(\"Initial Model\")"
   ]
  },
  {
   "cell_type": "code",
   "execution_count": 20,
   "metadata": {},
   "outputs": [],
   "source": [
    "criterion = nn.MSELoss()\n",
    "optimizer = torch.optim.SGD(model.parameters(), lr=0.01)"
   ]
  },
  {
   "cell_type": "code",
   "execution_count": 21,
   "metadata": {},
   "outputs": [
    {
     "name": "stdout",
     "output_type": "stream",
     "text": [
      "Epoch: 0 Loss: 10.461551666259766\n",
      "Epoch: 1 Loss: 10.441458702087402\n",
      "Epoch: 2 Loss: 10.422207832336426\n",
      "Epoch: 3 Loss: 10.403764724731445\n",
      "Epoch: 4 Loss: 10.386094093322754\n",
      "Epoch: 5 Loss: 10.369162559509277\n",
      "Epoch: 6 Loss: 10.352940559387207\n",
      "Epoch: 7 Loss: 10.33740234375\n",
      "Epoch: 8 Loss: 10.322510719299316\n",
      "Epoch: 9 Loss: 10.308245658874512\n",
      "Epoch: 10 Loss: 10.294576644897461\n",
      "Epoch: 11 Loss: 10.28148078918457\n",
      "Epoch: 12 Loss: 10.268933296203613\n",
      "Epoch: 13 Loss: 10.256913185119629\n",
      "Epoch: 14 Loss: 10.245394706726074\n",
      "Epoch: 15 Loss: 10.234357833862305\n",
      "Epoch: 16 Loss: 10.223782539367676\n",
      "Epoch: 17 Loss: 10.213652610778809\n",
      "Epoch: 18 Loss: 10.203946113586426\n",
      "Epoch: 19 Loss: 10.1946439743042\n",
      "Epoch: 20 Loss: 10.185731887817383\n",
      "Epoch: 21 Loss: 10.177194595336914\n",
      "Epoch: 22 Loss: 10.169012069702148\n",
      "Epoch: 23 Loss: 10.161172866821289\n",
      "Epoch: 24 Loss: 10.15366268157959\n",
      "Epoch: 25 Loss: 10.146465301513672\n",
      "Epoch: 26 Loss: 10.139570236206055\n",
      "Epoch: 27 Loss: 10.132962226867676\n",
      "Epoch: 28 Loss: 10.126630783081055\n",
      "Epoch: 29 Loss: 10.120565414428711\n",
      "Epoch: 30 Loss: 10.114750862121582\n",
      "Epoch: 31 Loss: 10.109182357788086\n",
      "Epoch: 32 Loss: 10.103845596313477\n",
      "Epoch: 33 Loss: 10.098731994628906\n",
      "Epoch: 34 Loss: 10.093831062316895\n",
      "Epoch: 35 Loss: 10.089136123657227\n",
      "Epoch: 36 Loss: 10.084636688232422\n",
      "Epoch: 37 Loss: 10.080326080322266\n",
      "Epoch: 38 Loss: 10.076194763183594\n",
      "Epoch: 39 Loss: 10.072236061096191\n",
      "Epoch: 40 Loss: 10.068443298339844\n",
      "Epoch: 41 Loss: 10.06480884552002\n",
      "Epoch: 42 Loss: 10.061326026916504\n",
      "Epoch: 43 Loss: 10.057987213134766\n",
      "Epoch: 44 Loss: 10.054790496826172\n",
      "Epoch: 45 Loss: 10.051726341247559\n",
      "Epoch: 46 Loss: 10.048789024353027\n",
      "Epoch: 47 Loss: 10.045975685119629\n",
      "Epoch: 48 Loss: 10.043277740478516\n",
      "Epoch: 49 Loss: 10.040694236755371\n",
      "Epoch: 50 Loss: 10.038217544555664\n",
      "Epoch: 51 Loss: 10.035844802856445\n",
      "Epoch: 52 Loss: 10.0335693359375\n",
      "Epoch: 53 Loss: 10.031391143798828\n",
      "Epoch: 54 Loss: 10.029302597045898\n",
      "Epoch: 55 Loss: 10.027301788330078\n",
      "Epoch: 56 Loss: 10.025383949279785\n",
      "Epoch: 57 Loss: 10.023547172546387\n",
      "Epoch: 58 Loss: 10.021785736083984\n",
      "Epoch: 59 Loss: 10.020096778869629\n",
      "Epoch: 60 Loss: 10.01848030090332\n",
      "Epoch: 61 Loss: 10.016929626464844\n",
      "Epoch: 62 Loss: 10.0154447555542\n",
      "Epoch: 63 Loss: 10.014019966125488\n",
      "Epoch: 64 Loss: 10.012657165527344\n",
      "Epoch: 65 Loss: 10.011348724365234\n",
      "Epoch: 66 Loss: 10.010096549987793\n",
      "Epoch: 67 Loss: 10.008894920349121\n",
      "Epoch: 68 Loss: 10.007743835449219\n",
      "Epoch: 69 Loss: 10.006641387939453\n",
      "Epoch: 70 Loss: 10.005584716796875\n",
      "Epoch: 71 Loss: 10.004571914672852\n",
      "Epoch: 72 Loss: 10.00360107421875\n",
      "Epoch: 73 Loss: 10.002670288085938\n",
      "Epoch: 74 Loss: 10.001779556274414\n",
      "Epoch: 75 Loss: 10.000925064086914\n",
      "Epoch: 76 Loss: 10.000103950500488\n",
      "Epoch: 77 Loss: 9.999320983886719\n",
      "Epoch: 78 Loss: 9.998568534851074\n",
      "Epoch: 79 Loss: 9.997846603393555\n",
      "Epoch: 80 Loss: 9.997156143188477\n",
      "Epoch: 81 Loss: 9.996493339538574\n",
      "Epoch: 82 Loss: 9.995858192443848\n",
      "Epoch: 83 Loss: 9.995250701904297\n",
      "Epoch: 84 Loss: 9.994667053222656\n",
      "Epoch: 85 Loss: 9.994108200073242\n",
      "Epoch: 86 Loss: 9.993573188781738\n",
      "Epoch: 87 Loss: 9.993060111999512\n",
      "Epoch: 88 Loss: 9.99256706237793\n",
      "Epoch: 89 Loss: 9.992094993591309\n",
      "Epoch: 90 Loss: 9.991643905639648\n",
      "Epoch: 91 Loss: 9.991209983825684\n",
      "Epoch: 92 Loss: 9.990795135498047\n",
      "Epoch: 93 Loss: 9.990396499633789\n",
      "Epoch: 94 Loss: 9.990015029907227\n",
      "Epoch: 95 Loss: 9.98965072631836\n",
      "Epoch: 96 Loss: 9.989300727844238\n",
      "Epoch: 97 Loss: 9.988964080810547\n",
      "Epoch: 98 Loss: 9.988641738891602\n",
      "Epoch: 99 Loss: 9.988332748413086\n"
     ]
    }
   ],
   "source": [
    "epochs = 100\n",
    "losses = []\n",
    "for i in range (epochs):\n",
    "    y_pred = model.forward(X)\n",
    "    loss = criterion(y_pred,y)\n",
    "    print(\"Epoch:\", i, \"Loss:\", loss.item())\n",
    "    \n",
    "    losses.append(loss.item())\n",
    "    optimizer.zero_grad() # Reset gradient in (Mini batch cause pytorch correct weight and delivetive in backward so should reset weight in list)\n",
    "    loss.backward()   # Calculate gradient(delivertive)\n",
    "    optimizer.step()  "
   ]
  },
  {
   "cell_type": "code",
   "execution_count": 22,
   "metadata": {},
   "outputs": [
    {
     "data": {
      "image/png": "[encoded data removed]",
      "text/plain": [
       "<Figure size 432x288 with 1 Axes>"
      ]
     },
     "metadata": {
      "needs_background": "light"
     },
     "output_type": "display_data"
    }
   ],
   "source": [
    "plt.plot(range(epochs), losses)\n",
    "plt.ylabel('Loss')\n",
    "plt.xlabel('Epoch')\n",
    "plt.show()"
   ]
  },
  {
   "cell_type": "code",
   "execution_count": 23,
   "metadata": {},
   "outputs": [
    {
     "data": {
      "image/png": "[encoded data removed]",
      "text/plain": [
       "<Figure size 432x288 with 1 Axes>"
      ]
     },
     "metadata": {
      "needs_background": "light"
     },
     "output_type": "display_data"
    }
   ],
   "source": [
    "plot_fit(\"Trained Model\")"
   ]
  }
 ],
 "metadata": {
  "kernelspec": {
   "display_name": "pytorch_mps",
   "language": "python",
   "name": "python3"
  },
  "language_info": {
   "codemirror_mode": {
    "name": "ipython",
    "version": 3
   },
   "file_extension": ".py",
   "mimetype": "text/x-python",
   "name": "python",
   "nbconvert_exporter": "python",
   "pygments_lexer": "ipython3",
   "version": "3.9.10"
  },
  "orig_nbformat": 4
 },
 "nbformat": 4,
 "nbformat_minor": 2
}
